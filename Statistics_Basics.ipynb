{
  "nbformat": 4,
  "nbformat_minor": 0,
  "metadata": {
    "colab": {
      "provenance": []
    },
    "kernelspec": {
      "name": "python3",
      "display_name": "Python 3"
    },
    "language_info": {
      "name": "python"
    }
  },
  "cells": [
    {
      "cell_type": "markdown",
      "source": [
        "#**Statistics Basics Assignment**"
      ],
      "metadata": {
        "id": "dTd4jo884rLw"
      }
    },
    {
      "cell_type": "markdown",
      "source": [
        "**Q 1 What is statistics, and why is it important?**\n",
        "  - Statistics :- It is a branch of applied mathematics that involves the collection, description, analysis, and inference of conclusions from quantitative data.\n",
        "  - Importance of statistics. It helps us make informed decisions, understand patterns and trends, and draw conclusions from data.\n",
        "\n",
        "**Q 2 What are the two main types of statistics?**\n",
        "  - Statistics :- It is a branch of applied mathematics that involves the collection, description, analysis, and inference of conclusions from quantitative data.\n",
        "  - The two main types of statistics are Descriptive Statistics and Inferential Statistics.\n",
        "\n",
        "**Q 3 What are descriptive statistics?**\n",
        "  - Descriptive statistics are brief informational coefficients that summarize a given data set, which can be either a representation of the entire population or a sample of a population. Descriptive statistics are broken down into measures of central tendency and measures of variability (spread).\n",
        "\n",
        "**Q 4 What is inferential statistics?**\n",
        "  - Inferential statistics is a branch of statistics that makes the use of various analytical tools to draw inferences about the population data from sample data. Apart from inferential statistics, descriptive statistics forms another branch of statistics.\n",
        "\n",
        "**Q 5 What is sampling in statistics?**\n",
        "  - Sampling is a statistical technique for efficiently analyzing large datasets by selecting a representative subset. Rather than analyzing an entire dataset, sampling analyzes a small portion so researchers can make conclusions about a larger population. This allows for informed decision-making without exhaustive data collection.\n",
        "\n",
        "**Q 6 What are the different types of sampling methods?**\n",
        "  - Sampling is a statistical technique for efficiently analyzing large datasets by selecting a representative subset. Rather than analyzing an entire dataset, sampling analyzes a small portion so researchers can make conclusions about a larger population. This allows for informed decision-making without exhaustive data collection.\n",
        "  - Types of sampling are :-\n",
        "      - Random Sampling.\n",
        "      - Stratified Sampling.\n",
        "      - Cluster Sampling.\n",
        "      - Systematic Sampling.\n",
        "      - Convenience Sampling.\n",
        "      \n",
        "**Q 7 What is the difference between random and non-random sampling?**\n",
        "  - Random sampling, also known as probability sampling, involves selecting participants randomly, ensuring each member of the population has an equal chance of being chosen.\n",
        "  - Non-random sampling, or non-probability sampling, uses methods other than random chance to select participants, often based on convenience, judgment, or other criteria.\n",
        "\n",
        "**Q 8 Define and give examples of qualitative and quantitative data?**\n",
        "  - Quantitative data is anything that can be counted or measured; it refers to numerical data.\n",
        "  - Qualitative data is descriptive, referring to things that can be observed but not measured—such as colors or emotions.\n",
        "\n",
        "**Q 9 What are the different types of data in statistics?**\n",
        "  - In statistics, data is broadly categorized into two main types:\n",
        "     - Qualitative (or categorical).\n",
        "     - Quantitative (or numerical).\n",
        "\n",
        "**Q 10 Explain nominal, ordinal, interval, and ratio levels of measurement?**\n",
        "  - The four levels of measurement are nominal, ordinal, interval, and ratio.\n",
        "    - Nominal data simply categorizes variables with no order.\n",
        "    - Ordinal data can be ordered or ranked.\n",
        "    - Interval data is ordered and has equal intervals between values, but no true zero point.\n",
        "    - Ratio data has all the properties of interval data, including a true zero.\n",
        "\n",
        "**Q 11 What is the measure of central tendency?**\n",
        "  - The central tendency is stated as the statistical measure that represents the single value of the entire distribution or a dataset. It aims to provide an accurate description of the entire data in the distribution.\n",
        "  - The central tendency of the dataset can be found out using the three important measures namely mean, median and mode.\n",
        "\n",
        "**Q 12 Define mean, median, and mode?**\n",
        "  - Mean :- The mean represents the average value of the dataset. It can be calculated as the sum of all the values in the dataset divided by the number of values. In general, it is considered as the arithmetic mean.\n",
        "  - Median :- Median is the middle value of the dataset in which the dataset is arranged in the ascending order or in descending order. When the dataset contains an even number of values, then the median value of the dataset can be found by taking the mean of the middle two values.\n",
        "  - Mode :- The mode represents the frequently occurring value in the dataset. Sometimes the dataset may contain multiple modes and in some cases, it does not contain any mode at all.\n",
        "\n",
        "**Q 13 What is the significance of the measure of central tendency?**\n",
        "  - Measures of central tendency, like mean, median, and mode, are crucial in statistics as they provide a single value that represents the central or typical value of a dataset, summarizing its characteristics and aiding in data analysis.\n",
        "  - They are essential for simplifying complex data, making comparisons between datasets, and informing decision-making.\n",
        "\n",
        "**Q 14 What is variance, and how is it calculated?**\n",
        "  - Variance is a statistical measure that quantifies the spread or dispersion of a set of data points around their mean.\n",
        "  - It's calculated by finding the average of the squared differences between each data point and the mean.\n",
        "\n",
        "**Q 15 What is standard deviation, and why is it important?**\n",
        "  - Standard deviation is a statistical measure that indicates the amount of variation or dispersion in a dataset. It quantifies how much individual data points deviate from the mean (average). A high standard deviation means data points are widely spread, while a low standard deviation indicates data points are clustered closely around the mean.\n",
        "  - Importance of Standard deviation are as folows:\n",
        "    - Understanding Data Variability.\n",
        "    - Comparing Datasets.\n",
        "    - Identifying Outliers.\n",
        "    - Applications in Finance.\n",
        "    - Quality Assurance and Control.\n",
        "    - Scientific Research.\n",
        "\n",
        "**Q 16 Define and explain the term range in statistics?**\n",
        "  - In statistics, the range is a measure of variability that represents the spread of a dataset. It's calculated by finding the difference between the highest and lowest values in the data set.\n",
        "\n",
        "**Q 17 What is the difference between variance and standard deviation?**\n",
        "  - Variance is the average of the squared differences from the mean, while standard deviation is the square root of the variance.\n",
        "  - Standard deviation is a more intuitive measure because it is in the same units as the original data, whereas variance is in squared units.\n",
        "\n",
        "**Q 18 What is skewness in a dataset?**\n",
        "  - Skewness in data refers to the degree of asymmetry in a probability distribution.\n",
        "    - It indicates whether the data is more concentrated on one side of the mean compared to the other. A positively skewed distribution has a longer tail on the right side, while a negatively skewed distribution has a longer tail on the left side.\n",
        "\n",
        "**Q 19 What does it mean if a dataset is positively or negatively skewed?**\n",
        "  - Positively Skewed :- A positively skewed dataset has more data points on the lower end of the distribution and a longer tail extending to the right (higher values).\n",
        "  - Negatively Skewed :- negatively skewed dataset has more data points on the higher end of the distribution and a longer tail extending to the left (lower values).\n",
        "\n",
        "**Q 20 Define and explain kurtosis?**\n",
        "  - Kurtosis is a descriptive statistic used to help measure how data disperse between a distribution's center and tails, with larger values indicating a data distribution may have “heavy” tails that are thickly concentrated with observations or that are long with extreme observations.\n",
        "\n",
        "**Q 21 What is the purpose of covariance?**\n",
        "  - Covariance in statistics helps determine the relationship between two variables, specifically indicating the direction (positive or negative) of their relationship.\n",
        "    - It measures how much two variables tend to change together, meaning if one variable increases when the other increases (positive), or if one variable decreases when the other increases (negative). Essentially, covariance quantifies the joint variability of two random variables.\n",
        "**Q 22 What does correlation measure in statistics?**\n",
        "  - In statistics, correlation measures the strength and direction of the relationship between two variables\n",
        "    - It's a measure of how much two variables change together. Correlation doesn't imply causation, it only describes the association between variables.\n",
        "\n",
        "**Q 23 What is the difference between covariance and correlation?**\n",
        "  - Covariance measures the direction and magnitude of the relationship.\n",
        "  - Correlation measures the strength and direction of the relationship.\n",
        "\n",
        "**Q 24 What are some real-world applications of statistics?**\n",
        "  - Statistics :- It is a branch of applied mathematics that involves the collection, description, analysis, and inference of conclusions from quantitative data.\n",
        "  - Statistics is widely used in various real-world applications, including business decision-making, scientific research, healthcare, and quality control. It's also crucial in areas like market research, economic planning, and even personal daily routines like budgeting and planning travel.\n",
        "\n",
        "\n",
        "\n"
      ],
      "metadata": {
        "id": "1TYiujZK429g"
      }
    },
    {
      "cell_type": "markdown",
      "source": [
        "#**Practical Questions**"
      ],
      "metadata": {
        "id": "igil-bNQAyIz"
      }
    },
    {
      "cell_type": "markdown",
      "source": [
        "**Q 1 How do you calculate the mean, median, and mode of a dataset?**"
      ],
      "metadata": {
        "id": "5fTB4eMnA4fN"
      }
    },
    {
      "cell_type": "code",
      "source": [
        "import numpy as np\n",
        "import statistics as st\n",
        "\n",
        "dataset=[152,12,0,16,49,45]\n",
        "mean = np.mean(dataset)\n",
        "median = np.median(dataset)\n",
        "mode = st.mode(dataset)\n",
        "\n",
        "print(\"Mean: \", mean)\n",
        "print(\"Median: \", median)\n",
        "print(\"Mode: \", mode)\n",
        "\n"
      ],
      "metadata": {
        "colab": {
          "base_uri": "https://localhost:8080/"
        },
        "id": "R7wkB4Fm42Bx",
        "outputId": "f3fd25bf-6f3d-4a5d-c16f-04eeb910fecc"
      },
      "execution_count": 1,
      "outputs": [
        {
          "output_type": "stream",
          "name": "stdout",
          "text": [
            "Mean:  45.666666666666664\n",
            "Median:  30.5\n",
            "Mode:  152\n"
          ]
        }
      ]
    },
    {
      "cell_type": "markdown",
      "source": [
        "**Q 2 Write a Python program to compute the variance and standard deviation of a dataset?**"
      ],
      "metadata": {
        "id": "6ZQMYcH7Biui"
      }
    },
    {
      "cell_type": "code",
      "source": [
        "import numpy as np\n",
        "\n",
        "dataset=[152,12,0,16,49,45]\n",
        "\n",
        "variance = np.var(dataset)\n",
        "standard_deviation = np.std(dataset)\n",
        "\n",
        "print(\"Variance: \", variance)\n",
        "print(\"Standard Deviation: \", standard_deviation)\n",
        "\n",
        "\n"
      ],
      "metadata": {
        "colab": {
          "base_uri": "https://localhost:8080/"
        },
        "id": "XPXwH8v-Bh6m",
        "outputId": "baeb61b7-3401-435e-c5a3-6c1a0a3ca846"
      },
      "execution_count": 2,
      "outputs": [
        {
          "output_type": "stream",
          "name": "stdout",
          "text": [
            "Variance:  2569.555555555556\n",
            "Standard Deviation:  50.69078373388555\n"
          ]
        }
      ]
    },
    {
      "cell_type": "markdown",
      "source": [
        "**Q 3 Create a dataset and classify it into nominal, ordinal, interval, and ratio types?**"
      ],
      "metadata": {
        "id": "iZd8cNRCCAQF"
      }
    },
    {
      "cell_type": "code",
      "source": [
        "import pandas as pd\n",
        "\n",
        "data = {\n",
        "    'Customer ID': [1, 2, 3, 4, 5],\n",
        "    'Gender': ['Male', 'Female', 'Male', 'Female', 'Male'],\n",
        "    'Education Level': ['High School', 'Bachelor', 'Master', 'Bachelor', 'High School'],\n",
        "    'Satisfaction Score': [3, 5, 4, 2, 1],  # 1-5 scale\n",
        "    'Temperature': [25, 20, 22, 28, 23],  # Celsius\n",
        "    'Income': [50000, 75000, 100000, 60000, 45000]  # Dollars\n",
        "}\n",
        "df = pd.DataFrame(data)\n",
        "\n",
        "print(\"Dataset:\\n\", df)\n",
        "print(\"\\nData Type Classification:\")\n",
        "print(\"- Nominal: Gender\")\n",
        "print(\"- Ordinal: Education Level, Satisfaction Score\")\n",
        "print(\"- Interval: Temperature\")\n",
        "print(\"- Ratio: Income, Customer ID\")\n"
      ],
      "metadata": {
        "colab": {
          "base_uri": "https://localhost:8080/"
        },
        "id": "I9EAbqziCr1O",
        "outputId": "157488e9-9f87-4a00-86ee-ee74ccaf361b"
      },
      "execution_count": 3,
      "outputs": [
        {
          "output_type": "stream",
          "name": "stdout",
          "text": [
            "Dataset:\n",
            "    Customer ID  Gender Education Level  Satisfaction Score  Temperature  \\\n",
            "0            1    Male     High School                   3           25   \n",
            "1            2  Female        Bachelor                   5           20   \n",
            "2            3    Male          Master                   4           22   \n",
            "3            4  Female        Bachelor                   2           28   \n",
            "4            5    Male     High School                   1           23   \n",
            "\n",
            "   Income  \n",
            "0   50000  \n",
            "1   75000  \n",
            "2  100000  \n",
            "3   60000  \n",
            "4   45000  \n",
            "\n",
            "Data Type Classification:\n",
            "- Nominal: Gender\n",
            "- Ordinal: Education Level, Satisfaction Score\n",
            "- Interval: Temperature\n",
            "- Ratio: Income, Customer ID\n"
          ]
        }
      ]
    },
    {
      "cell_type": "markdown",
      "source": [
        "**Q 4 Implement sampling techniques like random sampling and stratified sampling?**\n"
      ],
      "metadata": {
        "id": "PMufMcJeCwSa"
      }
    },
    {
      "cell_type": "code",
      "source": [
        "random_sample = df.sample(n=3)  # Sample 3 random rows\n",
        "print(\"\\nRandom Sample:\\n\", random_sample)\n",
        "\n",
        "stratified_sample = df.groupby('Gender', group_keys=False).apply(lambda x: x.sample(frac=0.5))\n",
        "\n",
        "print(\"\\nStratified Sample (by Gender):\\n\", stratified_sample)\n"
      ],
      "metadata": {
        "colab": {
          "base_uri": "https://localhost:8080/"
        },
        "id": "BMXkFgcyC_c9",
        "outputId": "00203e1b-5285-4e2c-fff1-019a14547f26"
      },
      "execution_count": 4,
      "outputs": [
        {
          "output_type": "stream",
          "name": "stdout",
          "text": [
            "\n",
            "Random Sample:\n",
            "    Customer ID  Gender Education Level  Satisfaction Score  Temperature  \\\n",
            "1            2  Female        Bachelor                   5           20   \n",
            "4            5    Male     High School                   1           23   \n",
            "0            1    Male     High School                   3           25   \n",
            "\n",
            "   Income  \n",
            "1   75000  \n",
            "4   45000  \n",
            "0   50000  \n",
            "\n",
            "Stratified Sample (by Gender):\n",
            "    Customer ID  Gender Education Level  Satisfaction Score  Temperature  \\\n",
            "1            2  Female        Bachelor                   5           20   \n",
            "2            3    Male          Master                   4           22   \n",
            "0            1    Male     High School                   3           25   \n",
            "\n",
            "   Income  \n",
            "1   75000  \n",
            "2  100000  \n",
            "0   50000  \n"
          ]
        },
        {
          "output_type": "stream",
          "name": "stderr",
          "text": [
            "<ipython-input-4-72edce45ca3c>:4: DeprecationWarning: DataFrameGroupBy.apply operated on the grouping columns. This behavior is deprecated, and in a future version of pandas the grouping columns will be excluded from the operation. Either pass `include_groups=False` to exclude the groupings or explicitly select the grouping columns after groupby to silence this warning.\n",
            "  stratified_sample = df.groupby('Gender', group_keys=False).apply(lambda x: x.sample(frac=0.5))\n"
          ]
        }
      ]
    },
    {
      "cell_type": "markdown",
      "source": [
        "**Q 5 Write a Python function to calculate the range of a dataset?**\n"
      ],
      "metadata": {
        "id": "gcQlhPPlDGui"
      }
    },
    {
      "cell_type": "code",
      "source": [
        "dataset\n",
        "range = max(dataset)-min(dataset)\n",
        "print(range)"
      ],
      "metadata": {
        "colab": {
          "base_uri": "https://localhost:8080/"
        },
        "id": "_FCYryN_DDoH",
        "outputId": "ec029bd4-43e6-4a64-fefa-a0187a4b4ab8"
      },
      "execution_count": 6,
      "outputs": [
        {
          "output_type": "stream",
          "name": "stdout",
          "text": [
            "152\n"
          ]
        }
      ]
    },
    {
      "cell_type": "markdown",
      "source": [
        "**Q 6 Create a dataset and plot its histogram to visualize skewness?**\n"
      ],
      "metadata": {
        "id": "sRUi7BFGDWH7"
      }
    },
    {
      "cell_type": "code",
      "source": [
        "import matplotlib.pyplot as plt\n",
        "dataset\n",
        "plt.hist(dataset)\n",
        "plt.xlabel('Values')\n",
        "plt.ylabel('Frequency')\n",
        "plt.title('Histogram of Dataset')\n",
        "plt.show()\n"
      ],
      "metadata": {
        "colab": {
          "base_uri": "https://localhost:8080/",
          "height": 472
        },
        "id": "_G2fMI07DLuJ",
        "outputId": "55359a5b-7d10-42cb-e95f-fbb0f64b44f7"
      },
      "execution_count": 9,
      "outputs": [
        {
          "output_type": "display_data",
          "data": {
            "text/plain": [
              "<Figure size 640x480 with 1 Axes>"
            ],
            "image/png": "[encoded data removed]"
          },
          "metadata": {}
        }
      ]
    },
    {
      "cell_type": "markdown",
      "source": [
        "**Q 7 Calculate skewness and kurtosis of a dataset using Python libraries?**"
      ],
      "metadata": {
        "id": "R9bhsutpD_M5"
      }
    },
    {
      "cell_type": "code",
      "source": [
        "dataset\n",
        "skewness = st.pstdev(dataset) / st.mean(dataset)\n",
        "kurtosis = st.pvariance(dataset) / (st.pstdev(dataset)**4)\n",
        "\n",
        "\n",
        "print(\"Skewness:\", skewness)\n",
        "print(\"Kurtosis:\", kurtosis)"
      ],
      "metadata": {
        "colab": {
          "base_uri": "https://localhost:8080/"
        },
        "id": "RDYZRsSdEQFX",
        "outputId": "c7088499-fab7-4671-8115-4b52b1c0bd2f"
      },
      "execution_count": 10,
      "outputs": [
        {
          "output_type": "stream",
          "name": "stdout",
          "text": [
            "Skewness: 1.9377406198140708\n",
            "Kurtosis: 0.001341314710120829\n"
          ]
        }
      ]
    },
    {
      "cell_type": "markdown",
      "source": [
        "**Q 8 Generate a dataset and demonstrate positive and negative skewness?**"
      ],
      "metadata": {
        "id": "cd-IxV25ET-_"
      }
    },
    {
      "cell_type": "code",
      "source": [
        "import numpy as np\n",
        "import matplotlib.pyplot as plt\n",
        "\n",
        "positive_skew = np.concatenate([np.random.normal(0, 1, 100), np.random.normal(10, 2, 20)])\n",
        "\n",
        "negative_skew = np.concatenate([np.random.normal(10, 2, 20), np.random.normal(0, 1, 100)])\n",
        "\n",
        "plt.figure(figsize=(10, 5))\n",
        "\n",
        "plt.subplot(1, 2, 1)\n",
        "plt.hist(positive_skew, bins=20)\n",
        "plt.title('Positive Skewness')\n",
        "\n",
        "plt.subplot(1, 2, 2)\n",
        "plt.hist(negative_skew, bins=20)\n",
        "plt.title('Negative Skewness')\n",
        "\n",
        "plt.tight_layout()\n",
        "plt.show()"
      ],
      "metadata": {
        "colab": {
          "base_uri": "https://localhost:8080/",
          "height": 507
        },
        "id": "jrQRQFezFCu4",
        "outputId": "c36d2d5c-fe84-46e7-95f7-88da21bedf8f"
      },
      "execution_count": 14,
      "outputs": [
        {
          "output_type": "display_data",
          "data": {
            "text/plain": [
              "<Figure size 1000x500 with 2 Axes>"
            ],
            "image/png": "[encoded data removed]"
          },
          "metadata": {}
        }
      ]
    },
    {
      "cell_type": "markdown",
      "source": [
        "**Q 9 Write a Python script to calculate covariance between two datasets?**"
      ],
      "metadata": {
        "id": "ByQa2zFyFLej"
      }
    },
    {
      "cell_type": "code",
      "source": [
        "import pandas as pd\n",
        "import numpy as np\n",
        "\n",
        "def calculate_covariance(dataset1, dataset2):\n",
        "\n",
        "  if len(dataset1) != len(dataset2):\n",
        "    return \"Error: Datasets must have the same length.\"\n",
        "\n",
        "  n = len(dataset1)\n",
        "  mean1 = np.mean(dataset1)\n",
        "  mean2 = np.mean(dataset2)\n",
        "\n",
        "  covariance = np.sum((dataset1 - mean1) * (dataset2 - mean2)) / (n - 1)\n",
        "\n",
        "  return covariance\n",
        "\n",
        "dataset1 = [1, 2, 3, 4, 5]\n",
        "ds1=pd.DataFrame(dataset1)\n",
        "dataset2 = [2, 4, 5, 4, 5]\n",
        "ds2=pd.DataFrame(dataset2)\n",
        "\n",
        "covariance = calculate_covariance(ds1, ds2)\n",
        "print(f\"Covariance: {covariance}\")\n"
      ],
      "metadata": {
        "colab": {
          "base_uri": "https://localhost:8080/"
        },
        "id": "w4W89ybGFr_K",
        "outputId": "3a8baa0e-cded-4ded-a687-42d727831340"
      },
      "execution_count": 18,
      "outputs": [
        {
          "output_type": "stream",
          "name": "stdout",
          "text": [
            "Covariance: 0    1.5\n",
            "dtype: float64\n"
          ]
        },
        {
          "output_type": "stream",
          "name": "stderr",
          "text": [
            "/usr/local/lib/python3.11/dist-packages/numpy/_core/fromnumeric.py:84: FutureWarning: The behavior of DataFrame.sum with axis=None is deprecated, in a future version this will reduce over both axes and return a scalar. To retain the old behavior, pass axis=0 (or do not pass axis)\n",
            "  return reduction(axis=axis, out=out, **passkwargs)\n"
          ]
        }
      ]
    },
    {
      "cell_type": "markdown",
      "source": [
        "**Q 10 Write a Python script to calculate the correlation coefficient between two datasets?**"
      ],
      "metadata": {
        "id": "ilgJhKNKGkJV"
      }
    },
    {
      "cell_type": "code",
      "source": [
        "import numpy as np\n",
        "\n",
        "def calculate_correlation(dataset1, dataset2):\n",
        "    if len(dataset1) != len(dataset2):\n",
        "        return \"Error: Datasets must have the same length.\"\n",
        "\n",
        "    dataset1 = np.array(dataset1)\n",
        "    dataset2 = np.array(dataset2)\n",
        "\n",
        "    mean1 = np.mean(dataset1)\n",
        "    mean2 = np.mean(dataset2)\n",
        "\n",
        "    std1 = np.std(dataset1)\n",
        "    std2 = np.std(dataset2)\n",
        "\n",
        "    covariance = np.sum((dataset1 - mean1) * (dataset2 - mean2)) / (len(dataset1) -1)\n",
        "\n",
        "    if std1 == 0 or std2 == 0:\n",
        "        return 0\n",
        "    correlation = covariance / (std1 * std2)\n",
        "    return correlation\n",
        "\n",
        "dataset1 = [1, 2, 3, 4, 5]\n",
        "dataset2 = [2, 4, 5, 4, 5]\n",
        "\n",
        "correlation_coefficient = calculate_correlation(dataset1, dataset2)\n",
        "print(f\"Correlation Coefficient: {correlation_coefficient}\")\n"
      ],
      "metadata": {
        "colab": {
          "base_uri": "https://localhost:8080/"
        },
        "id": "gqJd-QYyGwEp",
        "outputId": "e1482d3f-fd1e-42d6-f045-38135cf25275"
      },
      "execution_count": 19,
      "outputs": [
        {
          "output_type": "stream",
          "name": "stdout",
          "text": [
            "Correlation Coefficient: 0.9682458365518541\n"
          ]
        }
      ]
    },
    {
      "cell_type": "markdown",
      "source": [
        "**Q 11 Create a scatter plot to visualize the relationship between two variables?**"
      ],
      "metadata": {
        "id": "eNF3zGuEG-wC"
      }
    },
    {
      "cell_type": "code",
      "source": [
        "import matplotlib.pyplot as plt\n",
        "\n",
        "x = [10, 2, 5, 4, 6]\n",
        "y = [2, 6, 7, 5, 9]\n",
        "\n",
        "plt.scatter(x, y)\n",
        "plt.xlabel(\"X-axis Label\")\n",
        "plt.ylabel(\"Y-axis Label\")\n",
        "plt.title(\"Scatter Plot\")\n",
        "plt.show()\n"
      ],
      "metadata": {
        "colab": {
          "base_uri": "https://localhost:8080/",
          "height": 472
        },
        "id": "Kmhwygh0HIo8",
        "outputId": "4005b2df-2f6f-40ae-d920-0767a9991d15"
      },
      "execution_count": 20,
      "outputs": [
        {
          "output_type": "display_data",
          "data": {
            "text/plain": [
              "<Figure size 640x480 with 1 Axes>"
            ],
            "image/png": "[encoded data removed]"
          },
          "metadata": {}
        }
      ]
    },
    {
      "cell_type": "markdown",
      "source": [
        "**Q 12 Implement and compare simple random sampling and systematic sampling?**"
      ],
      "metadata": {
        "id": "FbZ1YnmFHWez"
      }
    },
    {
      "cell_type": "code",
      "source": [
        "import pandas as pd\n",
        "import numpy as np\n",
        "\n",
        "def simple_random_sampling(df, sample_size):\n",
        "    return df.sample(n=sample_size)\n",
        "\n",
        "def systematic_sampling(df, sample_size):\n",
        "    interval = len(df) // sample_size\n",
        "    start = np.random.randint(0, interval)\n",
        "    indices = np.arange(start, len(df), interval)\n",
        "    return df.iloc[indices]\n",
        "data = {'values': np.random.randint(0, 100, 100)}\n",
        "df = pd.DataFrame(data)\n",
        "sample_size = 10\n",
        "\n",
        "srs_sample = simple_random_sampling(df, sample_size)\n",
        "print(\"Simple Random Sample:\\n\", srs_sample)\n",
        "\n",
        "\n",
        "sys_sample = systematic_sampling(df, sample_size)\n",
        "print(\"\\nSystematic Sample:\\n\", sys_sample)\n",
        "\n",
        "srs_mean = srs_sample['values'].mean()\n",
        "sys_mean = sys_sample['values'].mean()\n",
        "\n",
        "print(\"\\nMean of Simple Random Sample:\", srs_mean)\n",
        "print(\"Mean of Systematic Sample:\", sys_mean)\n",
        "\n"
      ],
      "metadata": {
        "colab": {
          "base_uri": "https://localhost:8080/"
        },
        "id": "GKXpwbPFHhaW",
        "outputId": "4d9c4a1a-1a53-4f5e-fe75-1683920c182b"
      },
      "execution_count": 21,
      "outputs": [
        {
          "output_type": "stream",
          "name": "stdout",
          "text": [
            "Simple Random Sample:\n",
            "     values\n",
            "58      66\n",
            "59      92\n",
            "3       98\n",
            "29      71\n",
            "63       4\n",
            "53      88\n",
            "19      99\n",
            "31      27\n",
            "96      33\n",
            "44      78\n",
            "\n",
            "Systematic Sample:\n",
            "     values\n",
            "9       78\n",
            "19      99\n",
            "29      71\n",
            "39      69\n",
            "49      37\n",
            "59      92\n",
            "69      60\n",
            "79      24\n",
            "89      28\n",
            "99      76\n",
            "\n",
            "Mean of Simple Random Sample: 65.6\n",
            "Mean of Systematic Sample: 63.4\n"
          ]
        }
      ]
    },
    {
      "cell_type": "markdown",
      "source": [
        "**Q 13 Calculate the mean, median, and mode of grouped data?**"
      ],
      "metadata": {
        "id": "_rB0hO3nHq44"
      }
    },
    {
      "cell_type": "code",
      "source": [
        "import pandas as pd\n",
        "\n",
        "def calculate_grouped_stats(data, lower_bounds, upper_bounds, frequencies):\n",
        "    grouped_data = pd.DataFrame({\n",
        "        'lower_bound': lower_bounds,\n",
        "        'upper_bound': upper_bounds,\n",
        "        'frequency': frequencies\n",
        "    })\n",
        "\n",
        "    grouped_data['midpoint'] = (grouped_data['lower_bound'] + grouped_data['upper_bound']) / 2\n",
        "\n",
        "    mean = sum(grouped_data['midpoint'] * grouped_data['frequency']) / sum(grouped_data['frequency'])\n",
        "\n",
        "    grouped_data['cumulative_frequency'] = grouped_data['frequency'].cumsum()\n",
        "\n",
        "    n = sum(grouped_data['frequency'])\n",
        "    median_index = (n + 1) / 2\n",
        "    median_group = grouped_data[grouped_data['cumulative_frequency'] >= median_index].iloc[0]\n",
        "    median = median_group['lower_bound'] + ((median_index - median_group['cumulative_frequency'] + median_group['frequency']) / median_group['frequency']) * (median_group['upper_bound'] - median_group['lower_bound'])\n",
        "\n",
        "    mode_group = grouped_data[grouped_data['frequency'] == grouped_data['frequency'].max()].iloc[0]\n",
        "    mode = mode_group['midpoint']\n",
        "\n",
        "    return {'mean': mean, 'median': median, 'mode': mode}\n",
        "\n",
        "lower_bounds = [10, 20, 30, 40, 50]\n",
        "upper_bounds = [19, 29, 39, 49, 59]\n",
        "frequencies = [5, 10, 15, 8, 2]\n",
        "\n",
        "grouped_stats = calculate_grouped_stats(None, lower_bounds, upper_bounds, frequencies) # Replace None with actual df if required\n",
        "grouped_stats\n"
      ],
      "metadata": {
        "colab": {
          "base_uri": "https://localhost:8080/"
        },
        "id": "8qMPTIxcIpuT",
        "outputId": "4884e6eb-1243-4f04-de7d-bf738e3bcec9"
      },
      "execution_count": 22,
      "outputs": [
        {
          "output_type": "execute_result",
          "data": {
            "text/plain": [
              "{'mean': 32.5, 'median': np.float64(33.3), 'mode': np.float64(34.5)}"
            ]
          },
          "metadata": {},
          "execution_count": 22
        }
      ]
    },
    {
      "cell_type": "markdown",
      "source": [
        "**Q 14 Simulate data using Python and calculate its central tendency and dispersion?**"
      ],
      "metadata": {
        "id": "seKEUwvuJAVw"
      }
    },
    {
      "cell_type": "code",
      "source": [
        "import pandas as pd\n",
        "\n",
        "dataset\n",
        "\n",
        "mean = np.mean(dataset)\n",
        "median = np.median(dataset)\n",
        "\n",
        "variance = np.var(dataset)\n",
        "std_dev = np.std(dataset)\n",
        "range_data = np.max(dataset)-np.min(dataset)\n",
        "print(\"Central tendency as \",\"Mean:\", mean,\"Median:\", median)\n",
        "print(\"Dispersion as \",\"Variance:\", variance,\"Standard Deviation:\", std_dev,\"Range:\", range_data)\n"
      ],
      "metadata": {
        "colab": {
          "base_uri": "https://localhost:8080/"
        },
        "id": "Z1Rjs19aJYQL",
        "outputId": "d3ef9c66-8646-4755-97d2-636104f374d6"
      },
      "execution_count": 23,
      "outputs": [
        {
          "output_type": "stream",
          "name": "stdout",
          "text": [
            "Central tendency as  Mean: 14.090909090909092 Median: 6.0\n",
            "Dispersion as  Variance: 745.5371900826445 Standard Deviation: 27.304526915561905 Range: 99\n"
          ]
        }
      ]
    },
    {
      "cell_type": "markdown",
      "source": [
        "**Q 15 Use NumPy or pandas to summarize a dataset’s descriptive statistics?**"
      ],
      "metadata": {
        "id": "ZMlG3SioKOJQ"
      }
    },
    {
      "cell_type": "code",
      "source": [
        "import pandas as pd\n",
        "\n",
        "data = {\n",
        "    'Customer ID': [1, 2, 3, 4, 5],\n",
        "    'Gender': ['Male', 'Female', 'Male', 'Female', 'Male'],\n",
        "    'Education Level': ['High School', 'Bachelor', 'Master', 'Bachelor', 'High School'],\n",
        "    'Satisfaction Score': [3, 5, 4, 2, 1],  # 1-5 scale\n",
        "    'Temperature': [25, 20, 22, 28, 23],  # Celsius\n",
        "    'Income': [50000, 75000, 100000, 60000, 45000]  # Dollars\n",
        "}\n",
        "df = pd.DataFrame(data)\n",
        "\n",
        "descriptive_statistics = df.describe()\n",
        "print(descriptive_statistics)"
      ],
      "metadata": {
        "colab": {
          "base_uri": "https://localhost:8080/"
        },
        "id": "4x_6lpXMKmTI",
        "outputId": "49c97ae6-ef81-4b28-d7a8-f01339fd663a"
      },
      "execution_count": 25,
      "outputs": [
        {
          "output_type": "stream",
          "name": "stdout",
          "text": [
            "       Customer ID  Satisfaction Score  Temperature         Income\n",
            "count     5.000000            5.000000      5.00000       5.000000\n",
            "mean      3.000000            3.000000     23.60000   66000.000000\n",
            "std       1.581139            1.581139      3.04959   22192.341021\n",
            "min       1.000000            1.000000     20.00000   45000.000000\n",
            "25%       2.000000            2.000000     22.00000   50000.000000\n",
            "50%       3.000000            3.000000     23.00000   60000.000000\n",
            "75%       4.000000            4.000000     25.00000   75000.000000\n",
            "max       5.000000            5.000000     28.00000  100000.000000\n"
          ]
        }
      ]
    },
    {
      "cell_type": "markdown",
      "source": [
        "**Q 16 Plot a boxplot to understand the spread and identify outliers?**"
      ],
      "metadata": {
        "id": "Vo86QklRK-W4"
      }
    },
    {
      "cell_type": "code",
      "source": [
        "import seaborn as sns\n",
        "data= [10,15,16,20,24,19,40,60,70,150]\n",
        "sns.boxplot(data)"
      ],
      "metadata": {
        "colab": {
          "base_uri": "https://localhost:8080/",
          "height": 428
        },
        "id": "ff4zLycLKp6a",
        "outputId": "6b1527dc-a1c1-4ce9-97ea-807c7c7ef347"
      },
      "execution_count": 30,
      "outputs": [
        {
          "output_type": "execute_result",
          "data": {
            "text/plain": [
              "<Axes: >"
            ]
          },
          "metadata": {},
          "execution_count": 30
        },
        {
          "output_type": "display_data",
          "data": {
            "text/plain": [
              "<Figure size 640x480 with 1 Axes>"
            ],
            "image/png": "[encoded data removed]"
          },
          "metadata": {}
        }
      ]
    },
    {
      "cell_type": "markdown",
      "source": [
        "**Q 17 Calculate the interquartile range (IQR) of a dataset?**"
      ],
      "metadata": {
        "id": "ROLNYdgmLZHT"
      }
    },
    {
      "cell_type": "code",
      "source": [
        "import numpy as np\n",
        "data=[1,52,69,38,46,15,26]\n",
        "np.percentile(data,[0,25,50,75,100])\n",
        "\n",
        "# IQR = Q3-Q1 or 0 = min Q1 = 25% Q2=50% Q3=75%\n",
        "iqr=49.00-20.5\n",
        "iqr\n"
      ],
      "metadata": {
        "colab": {
          "base_uri": "https://localhost:8080/"
        },
        "id": "cMQraw7qLKi7",
        "outputId": "39e868ed-92fc-4b90-db32-1c8d8c91f8b9"
      },
      "execution_count": 35,
      "outputs": [
        {
          "output_type": "execute_result",
          "data": {
            "text/plain": [
              "28.5"
            ]
          },
          "metadata": {},
          "execution_count": 35
        }
      ]
    },
    {
      "cell_type": "markdown",
      "source": [
        "**Q 18 Implement Z-score normalization and explain its significance?**"
      ],
      "metadata": {
        "id": "3QUhPLudMIse"
      }
    },
    {
      "cell_type": "code",
      "source": [
        "import numpy as np\n",
        "def z_score_normalization(data):\n",
        "\n",
        "    data = np.array(data)\n",
        "\n",
        "    mean = np.mean(data)\n",
        "    std_dev = np.std(data)\n",
        "\n",
        "    if std_dev == 0:\n",
        "        return np.zeros_like(data)\n",
        "\n",
        "    normalized_data = (data - mean) / std_dev\n",
        "    return normalized_data\n",
        "\n",
        "data = [10, 15, 16, 20, 24, 19, 40, 60, 70, 150]\n",
        "normalized_data = z_score_normalization(data)\n",
        "print(\"Original Data:\", data)\n",
        "print(\"Normalized Data:\", normalized_data)"
      ],
      "metadata": {
        "colab": {
          "base_uri": "https://localhost:8080/"
        },
        "id": "gVrX8OjPMYj-",
        "outputId": "4175f0cc-6d41-4df7-d4b8-cc85dd9b4e9f"
      },
      "execution_count": 37,
      "outputs": [
        {
          "output_type": "stream",
          "name": "stdout",
          "text": [
            "Original Data: [10, 15, 16, 20, 24, 19, 40, 60, 70, 150]\n",
            "Normalized Data: [-0.79665816 -0.67371708 -0.64912887 -0.55077601 -0.45242315 -0.57536422\n",
            " -0.05901172  0.43275258  0.67863472  2.6456919 ]\n"
          ]
        }
      ]
    },
    {
      "cell_type": "markdown",
      "source": [
        "**Q 19 Compare two datasets using their standard deviations?**"
      ],
      "metadata": {
        "id": "MJD0V4hCMkdm"
      }
    },
    {
      "cell_type": "code",
      "source": [
        "import numpy as np\n",
        "d1=[12,50,60,23,29,38,39,50]\n",
        "d2=[14,36,25,17,19,30,50,40]\n",
        "std_dev1 = np.std(d1)\n",
        "std_dev2 = np.std(d2)\n",
        "print(\"Standard Deviation of Dataset 1:\", std_dev1)\n",
        "print(\"Standard Deviation of Dataset 2:\", std_dev2)"
      ],
      "metadata": {
        "colab": {
          "base_uri": "https://localhost:8080/"
        },
        "id": "Ts1TfIKiMgvb",
        "outputId": "c75571a5-dd01-4e54-825b-dec529e57531"
      },
      "execution_count": 41,
      "outputs": [
        {
          "output_type": "stream",
          "name": "stdout",
          "text": [
            "Standard Deviation of Dataset 1: 14.806565266799725\n",
            "Standard Deviation of Dataset 2: 11.709371246996996\n"
          ]
        }
      ]
    },
    {
      "cell_type": "markdown",
      "source": [
        "**Q 20 Write a Python program to visualize covariance using a heatmap?**"
      ],
      "metadata": {
        "id": "EDHNZTqENkO3"
      }
    },
    {
      "cell_type": "code",
      "source": [
        "import seaborn as sns\n",
        "\n",
        "df = sns.load_dataset('tips')\n",
        "covariance_matrix = df.cov(numeric_only=True)\n",
        "sns.heatmap(covariance_matrix, annot=True, cmap='coolwarm')"
      ],
      "metadata": {
        "colab": {
          "base_uri": "https://localhost:8080/",
          "height": 447
        },
        "id": "Az03uKb3M6b1",
        "outputId": "f59d2156-51f1-4748-afab-172ba95dc10c"
      },
      "execution_count": 43,
      "outputs": [
        {
          "output_type": "execute_result",
          "data": {
            "text/plain": [
              "<Axes: >"
            ]
          },
          "metadata": {},
          "execution_count": 43
        },
        {
          "output_type": "display_data",
          "data": {
            "text/plain": [
              "<Figure size 640x480 with 2 Axes>"
            ],
            "image/png": "[encoded data removed]"
          },
          "metadata": {}
        }
      ]
    },
    {
      "cell_type": "markdown",
      "source": [
        "**Q 21 Use seaborn to create a correlation matrix for a dataset?**"
      ],
      "metadata": {
        "id": "kft0J8XTN9yv"
      }
    },
    {
      "cell_type": "code",
      "source": [
        "df\n",
        "correlation_matrix = df.corr(numeric_only=True)\n",
        "correlation_matrix\n"
      ],
      "metadata": {
        "colab": {
          "base_uri": "https://localhost:8080/",
          "height": 143
        },
        "id": "A50TCyDMN2bb",
        "outputId": "16fc4682-da70-4b97-839b-ad529e62aaed"
      },
      "execution_count": 45,
      "outputs": [
        {
          "output_type": "execute_result",
          "data": {
            "text/plain": [
              "            total_bill       tip      size\n",
              "total_bill    1.000000  0.675734  0.598315\n",
              "tip           0.675734  1.000000  0.489299\n",
              "size          0.598315  0.489299  1.000000"
            ],
            "text/html": [
              "\n",
              "  <div id=\"df-16c11542-c263-4040-950e-9515753b11d8\" class=\"colab-df-container\">\n",
              "    <div>\n",
              "<style scoped>\n",
              "    .dataframe tbody tr th:only-of-type {\n",
              "        vertical-align: middle;\n",
              "    }\n",
              "\n",
              "    .dataframe tbody tr th {\n",
              "        vertical-align: top;\n",
              "    }\n",
              "\n",
              "    .dataframe thead th {\n",
              "        text-align: right;\n",
              "    }\n",
              "</style>\n",
              "<table border=\"1\" class=\"dataframe\">\n",
              "  <thead>\n",
              "    <tr style=\"text-align: right;\">\n",
              "      <th></th>\n",
              "      <th>total_bill</th>\n",
              "      <th>tip</th>\n",
              "      <th>size</th>\n",
              "    </tr>\n",
              "  </thead>\n",
              "  <tbody>\n",
              "    <tr>\n",
              "      <th>total_bill</th>\n",
              "      <td>1.000000</td>\n",
              "      <td>0.675734</td>\n",
              "      <td>0.598315</td>\n",
              "    </tr>\n",
              "    <tr>\n",
              "      <th>tip</th>\n",
              "      <td>0.675734</td>\n",
              "      <td>1.000000</td>\n",
              "      <td>0.489299</td>\n",
              "    </tr>\n",
              "    <tr>\n",
              "      <th>size</th>\n",
              "      <td>0.598315</td>\n",
              "      <td>0.489299</td>\n",
              "      <td>1.000000</td>\n",
              "    </tr>\n",
              "  </tbody>\n",
              "</table>\n",
              "</div>\n",
              "    <div class=\"colab-df-buttons\">\n",
              "\n",
              "  <div class=\"colab-df-container\">\n",
              "    <button class=\"colab-df-convert\" onclick=\"convertToInteractive('df-16c11542-c263-4040-950e-9515753b11d8')\"\n",
              "            title=\"Convert this dataframe to an interactive table.\"\n",
              "            style=\"display:none;\">\n",
              "\n",
              "  <svg xmlns=\"http://www.w3.org/2000/svg\" height=\"24px\" viewBox=\"0 -960 960 960\">\n",
              "    <path d=\"M120-120v-720h720v720H120Zm60-500h600v-160H180v160Zm220 220h160v-160H400v160Zm0 220h160v-160H400v160ZM180-400h160v-160H180v160Zm440 0h160v-160H620v160ZM180-180h160v-160H180v160Zm440 0h160v-160H620v160Z\"/>\n",
              "  </svg>\n",
              "    </button>\n",
              "\n",
              "  <style>\n",
              "    .colab-df-container {\n",
              "      display:flex;\n",
              "      gap: 12px;\n",
              "    }\n",
              "\n",
              "    .colab-df-convert {\n",
              "      background-color: #E8F0FE;\n",
              "      border: none;\n",
              "      border-radius: 50%;\n",
              "      cursor: pointer;\n",
              "      display: none;\n",
              "      fill: #1967D2;\n",
              "      height: 32px;\n",
              "      padding: 0 0 0 0;\n",
              "      width: 32px;\n",
              "    }\n",
              "\n",
              "    .colab-df-convert:hover {\n",
              "      background-color: #E2EBFA;\n",
              "      box-shadow: 0px 1px 2px rgba(60, 64, 67, 0.3), 0px 1px 3px 1px rgba(60, 64, 67, 0.15);\n",
              "      fill: #174EA6;\n",
              "    }\n",
              "\n",
              "    .colab-df-buttons div {\n",
              "      margin-bottom: 4px;\n",
              "    }\n",
              "\n",
              "    [theme=dark] .colab-df-convert {\n",
              "      background-color: #3B4455;\n",
              "      fill: #D2E3FC;\n",
              "    }\n",
              "\n",
              "    [theme=dark] .colab-df-convert:hover {\n",
              "      background-color: #434B5C;\n",
              "      box-shadow: 0px 1px 3px 1px rgba(0, 0, 0, 0.15);\n",
              "      filter: drop-shadow(0px 1px 2px rgba(0, 0, 0, 0.3));\n",
              "      fill: #FFFFFF;\n",
              "    }\n",
              "  </style>\n",
              "\n",
              "    <script>\n",
              "      const buttonEl =\n",
              "        document.querySelector('#df-16c11542-c263-4040-950e-9515753b11d8 button.colab-df-convert');\n",
              "      buttonEl.style.display =\n",
              "        google.colab.kernel.accessAllowed ? 'block' : 'none';\n",
              "\n",
              "      async function convertToInteractive(key) {\n",
              "        const element = document.querySelector('#df-16c11542-c263-4040-950e-9515753b11d8');\n",
              "        const dataTable =\n",
              "          await google.colab.kernel.invokeFunction('convertToInteractive',\n",
              "                                                    [key], {});\n",
              "        if (!dataTable) return;\n",
              "\n",
              "        const docLinkHtml = 'Like what you see? Visit the ' +\n",
              "          '<a target=\"_blank\" href=https://colab.research.google.com/notebooks/data_table.ipynb>data table notebook</a>'\n",
              "          + ' to learn more about interactive tables.';\n",
              "        element.innerHTML = '';\n",
              "        dataTable['output_type'] = 'display_data';\n",
              "        await google.colab.output.renderOutput(dataTable, element);\n",
              "        const docLink = document.createElement('div');\n",
              "        docLink.innerHTML = docLinkHtml;\n",
              "        element.appendChild(docLink);\n",
              "      }\n",
              "    </script>\n",
              "  </div>\n",
              "\n",
              "\n",
              "<div id=\"df-b7d0a772-3f9f-4338-b3f9-81f14570ad59\">\n",
              "  <button class=\"colab-df-quickchart\" onclick=\"quickchart('df-b7d0a772-3f9f-4338-b3f9-81f14570ad59')\"\n",
              "            title=\"Suggest charts\"\n",
              "            style=\"display:none;\">\n",
              "\n",
              "<svg xmlns=\"http://www.w3.org/2000/svg\" height=\"24px\"viewBox=\"0 0 24 24\"\n",
              "     width=\"24px\">\n",
              "    <g>\n",
              "        <path d=\"M19 3H5c-1.1 0-2 .9-2 2v14c0 1.1.9 2 2 2h14c1.1 0 2-.9 2-2V5c0-1.1-.9-2-2-2zM9 17H7v-7h2v7zm4 0h-2V7h2v10zm4 0h-2v-4h2v4z\"/>\n",
              "    </g>\n",
              "</svg>\n",
              "  </button>\n",
              "\n",
              "<style>\n",
              "  .colab-df-quickchart {\n",
              "      --bg-color: #E8F0FE;\n",
              "      --fill-color: #1967D2;\n",
              "      --hover-bg-color: #E2EBFA;\n",
              "      --hover-fill-color: #174EA6;\n",
              "      --disabled-fill-color: #AAA;\n",
              "      --disabled-bg-color: #DDD;\n",
              "  }\n",
              "\n",
              "  [theme=dark] .colab-df-quickchart {\n",
              "      --bg-color: #3B4455;\n",
              "      --fill-color: #D2E3FC;\n",
              "      --hover-bg-color: #434B5C;\n",
              "      --hover-fill-color: #FFFFFF;\n",
              "      --disabled-bg-color: #3B4455;\n",
              "      --disabled-fill-color: #666;\n",
              "  }\n",
              "\n",
              "  .colab-df-quickchart {\n",
              "    background-color: var(--bg-color);\n",
              "    border: none;\n",
              "    border-radius: 50%;\n",
              "    cursor: pointer;\n",
              "    display: none;\n",
              "    fill: var(--fill-color);\n",
              "    height: 32px;\n",
              "    padding: 0;\n",
              "    width: 32px;\n",
              "  }\n",
              "\n",
              "  .colab-df-quickchart:hover {\n",
              "    background-color: var(--hover-bg-color);\n",
              "    box-shadow: 0 1px 2px rgba(60, 64, 67, 0.3), 0 1px 3px 1px rgba(60, 64, 67, 0.15);\n",
              "    fill: var(--button-hover-fill-color);\n",
              "  }\n",
              "\n",
              "  .colab-df-quickchart-complete:disabled,\n",
              "  .colab-df-quickchart-complete:disabled:hover {\n",
              "    background-color: var(--disabled-bg-color);\n",
              "    fill: var(--disabled-fill-color);\n",
              "    box-shadow: none;\n",
              "  }\n",
              "\n",
              "  .colab-df-spinner {\n",
              "    border: 2px solid var(--fill-color);\n",
              "    border-color: transparent;\n",
              "    border-bottom-color: var(--fill-color);\n",
              "    animation:\n",
              "      spin 1s steps(1) infinite;\n",
              "  }\n",
              "\n",
              "  @keyframes spin {\n",
              "    0% {\n",
              "      border-color: transparent;\n",
              "      border-bottom-color: var(--fill-color);\n",
              "      border-left-color: var(--fill-color);\n",
              "    }\n",
              "    20% {\n",
              "      border-color: transparent;\n",
              "      border-left-color: var(--fill-color);\n",
              "      border-top-color: var(--fill-color);\n",
              "    }\n",
              "    30% {\n",
              "      border-color: transparent;\n",
              "      border-left-color: var(--fill-color);\n",
              "      border-top-color: var(--fill-color);\n",
              "      border-right-color: var(--fill-color);\n",
              "    }\n",
              "    40% {\n",
              "      border-color: transparent;\n",
              "      border-right-color: var(--fill-color);\n",
              "      border-top-color: var(--fill-color);\n",
              "    }\n",
              "    60% {\n",
              "      border-color: transparent;\n",
              "      border-right-color: var(--fill-color);\n",
              "    }\n",
              "    80% {\n",
              "      border-color: transparent;\n",
              "      border-right-color: var(--fill-color);\n",
              "      border-bottom-color: var(--fill-color);\n",
              "    }\n",
              "    90% {\n",
              "      border-color: transparent;\n",
              "      border-bottom-color: var(--fill-color);\n",
              "    }\n",
              "  }\n",
              "</style>\n",
              "\n",
              "  <script>\n",
              "    async function quickchart(key) {\n",
              "      const quickchartButtonEl =\n",
              "        document.querySelector('#' + key + ' button');\n",
              "      quickchartButtonEl.disabled = true;  // To prevent multiple clicks.\n",
              "      quickchartButtonEl.classList.add('colab-df-spinner');\n",
              "      try {\n",
              "        const charts = await google.colab.kernel.invokeFunction(\n",
              "            'suggestCharts', [key], {});\n",
              "      } catch (error) {\n",
              "        console.error('Error during call to suggestCharts:', error);\n",
              "      }\n",
              "      quickchartButtonEl.classList.remove('colab-df-spinner');\n",
              "      quickchartButtonEl.classList.add('colab-df-quickchart-complete');\n",
              "    }\n",
              "    (() => {\n",
              "      let quickchartButtonEl =\n",
              "        document.querySelector('#df-b7d0a772-3f9f-4338-b3f9-81f14570ad59 button');\n",
              "      quickchartButtonEl.style.display =\n",
              "        google.colab.kernel.accessAllowed ? 'block' : 'none';\n",
              "    })();\n",
              "  </script>\n",
              "</div>\n",
              "\n",
              "  <div id=\"id_037a71ee-3a95-4571-b5f3-fb929d842d97\">\n",
              "    <style>\n",
              "      .colab-df-generate {\n",
              "        background-color: #E8F0FE;\n",
              "        border: none;\n",
              "        border-radius: 50%;\n",
              "        cursor: pointer;\n",
              "        display: none;\n",
              "        fill: #1967D2;\n",
              "        height: 32px;\n",
              "        padding: 0 0 0 0;\n",
              "        width: 32px;\n",
              "      }\n",
              "\n",
              "      .colab-df-generate:hover {\n",
              "        background-color: #E2EBFA;\n",
              "        box-shadow: 0px 1px 2px rgba(60, 64, 67, 0.3), 0px 1px 3px 1px rgba(60, 64, 67, 0.15);\n",
              "        fill: #174EA6;\n",
              "      }\n",
              "\n",
              "      [theme=dark] .colab-df-generate {\n",
              "        background-color: #3B4455;\n",
              "        fill: #D2E3FC;\n",
              "      }\n",
              "\n",
              "      [theme=dark] .colab-df-generate:hover {\n",
              "        background-color: #434B5C;\n",
              "        box-shadow: 0px 1px 3px 1px rgba(0, 0, 0, 0.15);\n",
              "        filter: drop-shadow(0px 1px 2px rgba(0, 0, 0, 0.3));\n",
              "        fill: #FFFFFF;\n",
              "      }\n",
              "    </style>\n",
              "    <button class=\"colab-df-generate\" onclick=\"generateWithVariable('correlation_matrix')\"\n",
              "            title=\"Generate code using this dataframe.\"\n",
              "            style=\"display:none;\">\n",
              "\n",
              "  <svg xmlns=\"http://www.w3.org/2000/svg\" height=\"24px\"viewBox=\"0 0 24 24\"\n",
              "       width=\"24px\">\n",
              "    <path d=\"M7,19H8.4L18.45,9,17,7.55,7,17.6ZM5,21V16.75L18.45,3.32a2,2,0,0,1,2.83,0l1.4,1.43a1.91,1.91,0,0,1,.58,1.4,1.91,1.91,0,0,1-.58,1.4L9.25,21ZM18.45,9,17,7.55Zm-12,3A5.31,5.31,0,0,0,4.9,8.1,5.31,5.31,0,0,0,1,6.5,5.31,5.31,0,0,0,4.9,4.9,5.31,5.31,0,0,0,6.5,1,5.31,5.31,0,0,0,8.1,4.9,5.31,5.31,0,0,0,12,6.5,5.46,5.46,0,0,0,6.5,12Z\"/>\n",
              "  </svg>\n",
              "    </button>\n",
              "    <script>\n",
              "      (() => {\n",
              "      const buttonEl =\n",
              "        document.querySelector('#id_037a71ee-3a95-4571-b5f3-fb929d842d97 button.colab-df-generate');\n",
              "      buttonEl.style.display =\n",
              "        google.colab.kernel.accessAllowed ? 'block' : 'none';\n",
              "\n",
              "      buttonEl.onclick = () => {\n",
              "        google.colab.notebook.generateWithVariable('correlation_matrix');\n",
              "      }\n",
              "      })();\n",
              "    </script>\n",
              "  </div>\n",
              "\n",
              "    </div>\n",
              "  </div>\n"
            ],
            "application/vnd.google.colaboratory.intrinsic+json": {
              "type": "dataframe",
              "variable_name": "correlation_matrix",
              "summary": "{\n  \"name\": \"correlation_matrix\",\n  \"rows\": 3,\n  \"fields\": [\n    {\n      \"column\": \"total_bill\",\n      \"properties\": {\n        \"dtype\": \"number\",\n        \"std\": 0.21310904884233575,\n        \"min\": 0.5983151309049014,\n        \"max\": 1.0,\n        \"num_unique_values\": 3,\n        \"samples\": [\n          1.0,\n          0.6757341092113648,\n          0.5983151309049014\n        ],\n        \"semantic_type\": \"\",\n        \"description\": \"\"\n      }\n    },\n    {\n      \"column\": \"tip\",\n      \"properties\": {\n        \"dtype\": \"number\",\n        \"std\": 0.25843188743740914,\n        \"min\": 0.48929877523035714,\n        \"max\": 1.0,\n        \"num_unique_values\": 3,\n        \"samples\": [\n          0.6757341092113648,\n          1.0,\n          0.48929877523035714\n        ],\n        \"semantic_type\": \"\",\n        \"description\": \"\"\n      }\n    },\n    {\n      \"column\": \"size\",\n      \"properties\": {\n        \"dtype\": \"number\",\n        \"std\": 0.2689643845213583,\n        \"min\": 0.48929877523035714,\n        \"max\": 1.0,\n        \"num_unique_values\": 3,\n        \"samples\": [\n          0.5983151309049014,\n          0.48929877523035714,\n          1.0\n        ],\n        \"semantic_type\": \"\",\n        \"description\": \"\"\n      }\n    }\n  ]\n}"
            }
          },
          "metadata": {},
          "execution_count": 45
        }
      ]
    },
    {
      "cell_type": "markdown",
      "source": [
        "**Q 22 Generate a dataset and implement both variance and standard deviation computations?**"
      ],
      "metadata": {
        "id": "RvVnxM3COOue"
      }
    },
    {
      "cell_type": "code",
      "source": [
        "import numpy as np\n",
        "dataset=[152,162,49,126,135,17,19,10]\n",
        "variance = np.var(dataset)\n",
        "standard_deviation = np.std(dataset)\n",
        "\n",
        "print(\"Variance: \", variance)\n",
        "print(\"Standard Deviation: \", standard_deviation)"
      ],
      "metadata": {
        "colab": {
          "base_uri": "https://localhost:8080/"
        },
        "id": "Hnd6-TCDOEUo",
        "outputId": "e4a5b74d-9c9d-4481-be53-217a701f6d1a"
      },
      "execution_count": 47,
      "outputs": [
        {
          "output_type": "stream",
          "name": "stdout",
          "text": [
            "Variance:  3810.9375\n",
            "Standard Deviation:  61.73279112432873\n"
          ]
        }
      ]
    },
    {
      "cell_type": "markdown",
      "source": [
        "**Q 23 Visualize skewness and kurtosis using Python libraries like matplotlib or seaborn?**"
      ],
      "metadata": {
        "id": "LIdjX3z5Ojem"
      }
    },
    {
      "cell_type": "code",
      "source": [
        "import matplotlib.pyplot as plt\n",
        "import seaborn as sns\n",
        "\n",
        "data = [152,162,49,126,135,17,19,10]\n",
        "\n",
        "from scipy.stats import skew, kurtosis\n",
        "skewness_val = skew(data)\n",
        "kurtosis_val = kurtosis(data)\n",
        "\n",
        "print(\"Skewness:\", skewness_val)\n",
        "print(\"Kurtosis:\", kurtosis_val)\n",
        "\n",
        "plt.figure(figsize=(8, 6))\n",
        "sns.histplot(data, kde=True)\n",
        "plt.title(f'Distribution of Data (Skewness: {skewness_val:.2f}, Kurtosis: {kurtosis_val:.2f})')\n",
        "plt.xlabel('Values')\n",
        "plt.ylabel('Frequency')\n",
        "plt.show()"
      ],
      "metadata": {
        "colab": {
          "base_uri": "https://localhost:8080/",
          "height": 599
        },
        "id": "I63Tr58MOw-j",
        "outputId": "3400774a-c6d5-4132-bb1f-63f24d9b94d4"
      },
      "execution_count": 48,
      "outputs": [
        {
          "output_type": "stream",
          "name": "stdout",
          "text": [
            "Skewness: -0.002602574802077094\n",
            "Kurtosis: -1.814435509885234\n"
          ]
        },
        {
          "output_type": "display_data",
          "data": {
            "text/plain": [
              "<Figure size 800x600 with 1 Axes>"
            ],
            "image/png": "[encoded data removed]"
          },
          "metadata": {}
        }
      ]
    },
    {
      "cell_type": "markdown",
      "source": [
        "**Q 24 Implement the Pearson and Spearman correlation coefficients for a dataset?**"
      ],
      "metadata": {
        "id": "xS-BYVPjO5IY"
      }
    },
    {
      "cell_type": "code",
      "source": [
        "import pandas as pd\n",
        "from scipy.stats import pearsonr, spearmanr\n",
        "\n",
        "def correlation_coefficients(dataset1, dataset2):\n",
        "\n",
        "    if len(dataset1) != len(dataset2):\n",
        "        return \"Error: Datasets must have the same length.\"\n",
        "\n",
        "    try:\n",
        "        pearson_coef, pearson_p = pearsonr(dataset1, dataset2)\n",
        "        spearman_coef, spearman_p = spearmanr(dataset1, dataset2)\n",
        "\n",
        "        return {\n",
        "            \"Pearson\": {\"coefficient\": pearson_coef, \"p-value\": pearson_p},\n",
        "            \"Spearman\": {\"coefficient\": spearman_coef, \"p-value\": spearman_p}\n",
        "        }\n",
        "    except Exception as e:\n",
        "      return f\"An error occurred: {e}\"\n",
        "\n",
        "dataset1 = [1, 2, 3, 4, 5]\n",
        "dataset2 = [2, 4, 5, 4, 5]\n",
        "\n",
        "correlations = correlation_coefficients(dataset1, dataset2)\n",
        "print(correlations)"
      ],
      "metadata": {
        "colab": {
          "base_uri": "https://localhost:8080/"
        },
        "id": "Z302jegSPGao",
        "outputId": "d66189ae-8d99-42cf-ed20-b515b62c4a54"
      },
      "execution_count": 49,
      "outputs": [
        {
          "output_type": "stream",
          "name": "stdout",
          "text": [
            "{'Pearson': {'coefficient': np.float64(0.7745966692414834), 'p-value': np.float64(0.1240270626575546)}, 'Spearman': {'coefficient': np.float64(0.7378647873726218), 'p-value': np.float64(0.15461852312844906)}}\n"
          ]
        }
      ]
    }
  ]
}